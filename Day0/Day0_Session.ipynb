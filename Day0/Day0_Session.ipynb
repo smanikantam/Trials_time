{
  "nbformat": 4,
  "nbformat_minor": 0,
  "metadata": {
    "colab": {
      "provenance": []
    },
    "kernelspec": {
      "name": "python3",
      "display_name": "Python 3"
    },
    "language_info": {
      "name": "python"
    }
  },
  "cells": [
    {
      "cell_type": "code",
      "execution_count": 7,
      "metadata": {
        "colab": {
          "base_uri": "https://localhost:8080/"
        },
        "id": "CLvxveVw75el",
        "outputId": "11c733c9-975c-41d9-ca0f-c25f114599ca"
      },
      "outputs": [
        {
          "output_type": "stream",
          "name": "stdout",
          "text": [
            "7\n",
            "10\n"
          ]
        }
      ],
      "source": [
        "#adding two numbres\n",
        "print(2+5)\n",
        "#multiplying two numbers\n",
        "print(2*5)"
      ]
    },
    {
      "cell_type": "code",
      "source": [
        "#variables\n",
        "a=2\n",
        "print(a+a)\n",
        "print(a*a)\n",
        "print(a*a+a)\n",
        "a=\"hello!!\"\n",
        "print(a)\n",
        "a=2.0\n",
        "print(a)"
      ],
      "metadata": {
        "colab": {
          "base_uri": "https://localhost:8080/"
        },
        "id": "qai7lGJu9V4g",
        "outputId": "ef37d577-0575-4db0-83fe-25aa9c9b9977"
      },
      "execution_count": 14,
      "outputs": [
        {
          "output_type": "stream",
          "name": "stdout",
          "text": [
            "4\n",
            "4\n",
            "6\n",
            "hello!!\n",
            "2.0\n"
          ]
        }
      ]
    },
    {
      "cell_type": "code",
      "source": [
        "#data types\n",
        "\n",
        "\n",
        "# None\n",
        "# integer(2)\n",
        "# float(3.0)\n",
        "# boolean(True,False)\n",
        "# list(a=[1,2.0,\"hello\"])\n",
        "# tuple(a=(1,3.0,\"kef\"))\n",
        "# set(a={1,2,3,3})\n",
        "# dictionary(a={\"a\":1,\"b\":2})"
      ],
      "metadata": {
        "id": "_CYyBhho-WmM"
      },
      "execution_count": null,
      "outputs": []
    },
    {
      "cell_type": "code",
      "source": [
        "a=True\n",
        "print(a)\n",
        "print(type(a))"
      ],
      "metadata": {
        "colab": {
          "base_uri": "https://localhost:8080/"
        },
        "id": "F9Akrr-ZAS2m",
        "outputId": "468431f9-0616-400d-a331-7135e2dc7068"
      },
      "execution_count": 16,
      "outputs": [
        {
          "output_type": "stream",
          "name": "stdout",
          "text": [
            "True\n",
            "<class 'bool'>\n"
          ]
        }
      ]
    },
    {
      "cell_type": "code",
      "source": [
        "a=[1,2.0,\"hello\"]#list\n",
        "b=(1,2.0,\"hello\")#tuple\n",
        "c={1,2,3,3}#set\n",
        "d={\"d\":1,\"r\":3}#dict\n",
        "print(a,b,c,d)"
      ],
      "metadata": {
        "colab": {
          "base_uri": "https://localhost:8080/"
        },
        "id": "oa2bx8mjAYEE",
        "outputId": "d77adb9e-2ea8-4452-abb8-f0ca0c28db82"
      },
      "execution_count": 17,
      "outputs": [
        {
          "output_type": "stream",
          "name": "stdout",
          "text": [
            "[1, 2.0, 'hello'] (1, 2.0, 'hello') {1, 2, 3} {'d': 1, 'r': 3}\n"
          ]
        }
      ]
    },
    {
      "cell_type": "code",
      "source": [
        "#operation\n",
        "\n",
        "# arthematic(+,-,*)\n",
        "# assignment(=,+=,-=,*=)\n",
        "# relational(==,!=,>,<,>=,<=)\n",
        "# logical(and,or,not)\n",
        "# bitwise(&,|)"
      ],
      "metadata": {
        "id": "ODQ5n6FXA5yW"
      },
      "execution_count": 18,
      "outputs": []
    },
    {
      "cell_type": "code",
      "source": [
        "a=2\n",
        "if(a>3):\n",
        "  print(a)\n",
        "else:\n",
        "  print(\"not greater then 4\")"
      ],
      "metadata": {
        "colab": {
          "base_uri": "https://localhost:8080/"
        },
        "id": "57-uABSgB3wl",
        "outputId": "d5d1bc35-65b3-4cbe-b9b5-10d374575cca"
      },
      "execution_count": 20,
      "outputs": [
        {
          "output_type": "stream",
          "name": "stdout",
          "text": [
            "not greater then 4\n"
          ]
        }
      ]
    },
    {
      "cell_type": "code",
      "source": [
        "for i in range(10):\n",
        "  print(i)"
      ],
      "metadata": {
        "colab": {
          "base_uri": "https://localhost:8080/"
        },
        "id": "ymL63c_nCHzM",
        "outputId": "0402bffa-ee07-43bd-98dc-d156db8b0095"
      },
      "execution_count": 21,
      "outputs": [
        {
          "output_type": "stream",
          "name": "stdout",
          "text": [
            "0\n",
            "1\n",
            "2\n",
            "3\n",
            "4\n",
            "5\n",
            "6\n",
            "7\n",
            "8\n",
            "9\n"
          ]
        }
      ]
    },
    {
      "cell_type": "code",
      "source": [
        "a=1\n",
        "while(a<10):\n",
        "  print(a)\n",
        "  a+=3   #a=a+1\n",
        "  print(a)\n",
        "  #a++\n",
        "  #++a"
      ],
      "metadata": {
        "colab": {
          "base_uri": "https://localhost:8080/"
        },
        "id": "GikVDS0aCaV_",
        "outputId": "6f716738-b63e-4bc2-c228-a2aea93a27fd"
      },
      "execution_count": 24,
      "outputs": [
        {
          "output_type": "stream",
          "name": "stdout",
          "text": [
            "1\n",
            "4\n",
            "4\n",
            "7\n",
            "7\n",
            "10\n"
          ]
        }
      ]
    },
    {
      "cell_type": "code",
      "source": [
        "a=int(input())\n",
        "print(type(a))"
      ],
      "metadata": {
        "colab": {
          "base_uri": "https://localhost:8080/"
        },
        "id": "VCClm6LCCtZR",
        "outputId": "c1ed49de-5e97-4946-ee70-8c28eef2a198"
      },
      "execution_count": 29,
      "outputs": [
        {
          "output_type": "stream",
          "name": "stdout",
          "text": [
            "123\n",
            "<class 'int'>\n"
          ]
        }
      ]
    },
    {
      "cell_type": "code",
      "source": [
        "#data science and numpy package\n",
        "# in data science\n",
        "#include<math.io>\n",
        "#for importing\n",
        "# import is the keyword\n",
        "#the pakages in DS\n",
        "\n",
        "# numpy w3school\n",
        "# pandas\n",
        "# matplotlib"
      ],
      "metadata": {
        "id": "4r7ViqccDyXo"
      },
      "execution_count": null,
      "outputs": []
    },
    {
      "cell_type": "code",
      "source": [
        "import numpy\n",
        "a=numpy.array([1,2,3,4,5,5.0])\n",
        "print(a)"
      ],
      "metadata": {
        "colab": {
          "base_uri": "https://localhost:8080/"
        },
        "id": "fobsKTOdFU91",
        "outputId": "37e494d7-f78b-40f7-9c68-544088d39c69"
      },
      "execution_count": 33,
      "outputs": [
        {
          "output_type": "stream",
          "name": "stdout",
          "text": [
            "[1. 2. 3. 4. 5. 5.]\n"
          ]
        }
      ]
    },
    {
      "cell_type": "code",
      "source": [
        "#function in numpy\n",
        "# linspace()\n",
        "# logspace()\n",
        "# arange()\n",
        "# zeroes()\n",
        "# onces()"
      ],
      "metadata": {
        "id": "fiGQUUzEFrUO"
      },
      "execution_count": 34,
      "outputs": []
    },
    {
      "cell_type": "code",
      "source": [],
      "metadata": {
        "id": "vhLePBZbG01J"
      },
      "execution_count": null,
      "outputs": []
    }
  ]
}